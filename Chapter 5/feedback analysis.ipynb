{
 "cells": [
  {
   "cell_type": "code",
   "execution_count": 18,
   "id": "d5fc3747-6662-4bea-b09f-959d4d8a22e2",
   "metadata": {},
   "outputs": [],
   "source": [
    "import pandas as pd\n",
    "import numpy as np\n",
    "from scipy.stats import fisher_exact"
   ]
  },
  {
   "cell_type": "code",
   "execution_count": 31,
   "id": "479e4909-4707-45d3-8965-fd4461dcd1af",
   "metadata": {},
   "outputs": [
    {
     "data": {
      "text/html": [
       "<div>\n",
       "<style scoped>\n",
       "    .dataframe tbody tr th:only-of-type {\n",
       "        vertical-align: middle;\n",
       "    }\n",
       "\n",
       "    .dataframe tbody tr th {\n",
       "        vertical-align: top;\n",
       "    }\n",
       "\n",
       "    .dataframe thead th {\n",
       "        text-align: right;\n",
       "    }\n",
       "</style>\n",
       "<table border=\"1\" class=\"dataframe\">\n",
       "  <thead>\n",
       "    <tr style=\"text-align: right;\">\n",
       "      <th></th>\n",
       "      <th>Timestamp</th>\n",
       "      <th>Age</th>\n",
       "      <th>Gender</th>\n",
       "      <th>Ownership</th>\n",
       "      <th>BuyingPlan</th>\n",
       "      <th>Trust</th>\n",
       "      <th>CompromiseKnowledge</th>\n",
       "      <th>SecurityKnowledge</th>\n",
       "      <th>Content</th>\n",
       "      <th>Intent</th>\n",
       "      <th>KnowledgeGain</th>\n",
       "      <th>BuyingDecision</th>\n",
       "    </tr>\n",
       "  </thead>\n",
       "  <tbody>\n",
       "    <tr>\n",
       "      <th>0</th>\n",
       "      <td>2022-03-21 08:36:01.248</td>\n",
       "      <td>36-45</td>\n",
       "      <td>Female</td>\n",
       "      <td>I own some smart appliances</td>\n",
       "      <td>1 month</td>\n",
       "      <td>4</td>\n",
       "      <td>3</td>\n",
       "      <td>4</td>\n",
       "      <td>4.0</td>\n",
       "      <td>4.0</td>\n",
       "      <td>4.0</td>\n",
       "      <td>4.0</td>\n",
       "    </tr>\n",
       "    <tr>\n",
       "      <th>1</th>\n",
       "      <td>2022-03-22 07:52:46.354</td>\n",
       "      <td>36-45</td>\n",
       "      <td>Male</td>\n",
       "      <td>I own some smart appliances</td>\n",
       "      <td>1 year</td>\n",
       "      <td>3</td>\n",
       "      <td>1</td>\n",
       "      <td>5</td>\n",
       "      <td>4.0</td>\n",
       "      <td>5.0</td>\n",
       "      <td>4.0</td>\n",
       "      <td>5.0</td>\n",
       "    </tr>\n",
       "    <tr>\n",
       "      <th>2</th>\n",
       "      <td>2022-03-22 15:08:41.352</td>\n",
       "      <td>18-25</td>\n",
       "      <td>Female</td>\n",
       "      <td>I own some smart appliances</td>\n",
       "      <td>1 year</td>\n",
       "      <td>5</td>\n",
       "      <td>3</td>\n",
       "      <td>4</td>\n",
       "      <td>4.0</td>\n",
       "      <td>3.0</td>\n",
       "      <td>3.0</td>\n",
       "      <td>3.0</td>\n",
       "    </tr>\n",
       "    <tr>\n",
       "      <th>3</th>\n",
       "      <td>2022-03-22 15:11:46.095</td>\n",
       "      <td>18-25</td>\n",
       "      <td>Female</td>\n",
       "      <td>I own some smart appliances</td>\n",
       "      <td>1 month</td>\n",
       "      <td>4</td>\n",
       "      <td>3</td>\n",
       "      <td>3</td>\n",
       "      <td>3.0</td>\n",
       "      <td>3.0</td>\n",
       "      <td>4.0</td>\n",
       "      <td>3.0</td>\n",
       "    </tr>\n",
       "    <tr>\n",
       "      <th>4</th>\n",
       "      <td>2022-03-22 16:50:33.882</td>\n",
       "      <td>18-25</td>\n",
       "      <td>Female</td>\n",
       "      <td>I own some smart appliances</td>\n",
       "      <td>3 months</td>\n",
       "      <td>4</td>\n",
       "      <td>3</td>\n",
       "      <td>4</td>\n",
       "      <td>4.0</td>\n",
       "      <td>5.0</td>\n",
       "      <td>5.0</td>\n",
       "      <td>5.0</td>\n",
       "    </tr>\n",
       "  </tbody>\n",
       "</table>\n",
       "</div>"
      ],
      "text/plain": [
       "                Timestamp    Age  Gender                    Ownership  \\\n",
       "0 2022-03-21 08:36:01.248  36-45  Female  I own some smart appliances   \n",
       "1 2022-03-22 07:52:46.354  36-45    Male  I own some smart appliances   \n",
       "2 2022-03-22 15:08:41.352  18-25  Female  I own some smart appliances   \n",
       "3 2022-03-22 15:11:46.095  18-25  Female  I own some smart appliances   \n",
       "4 2022-03-22 16:50:33.882  18-25  Female  I own some smart appliances   \n",
       "\n",
       "  BuyingPlan  Trust  CompromiseKnowledge  SecurityKnowledge  Content  Intent  \\\n",
       "0    1 month      4                    3                  4      4.0     4.0   \n",
       "1     1 year      3                    1                  5      4.0     5.0   \n",
       "2     1 year      5                    3                  4      4.0     3.0   \n",
       "3    1 month      4                    3                  3      3.0     3.0   \n",
       "4   3 months      4                    3                  4      4.0     5.0   \n",
       "\n",
       "   KnowledgeGain  BuyingDecision  \n",
       "0            4.0             4.0  \n",
       "1            4.0             5.0  \n",
       "2            3.0             3.0  \n",
       "3            4.0             3.0  \n",
       "4            5.0             5.0  "
      ]
     },
     "execution_count": 31,
     "metadata": {},
     "output_type": "execute_result"
    }
   ],
   "source": [
    "all_feedback = pd.read_excel('https://github.com/plau51ble/ThesisChapters/blob/1700ab641690c3ac309c8326d0c5218771ac92eb/Chapter%205/data/AYAC.xlsx')\n",
    "\n",
    "all_feedback.rename(columns = {'My age':'Age',\n",
    "                              'My gender':'Gender',\n",
    "                              'The way smart appliances like connected refrigerator, smart TV, coffee maker, lighting options, smart plugs etc are part of my life:':'Ownership',\n",
    "                              'I may buy a smart appliance in next':'BuyingPlan',\n",
    "                              'I trust a specific brand more than others':'Trust',\n",
    "                              'I already knew about hacking incidents related to a brand':'CompromiseKnowledge',\n",
    "                              'The security of my network and smart appliances is under my control':'SecurityKnowledge',\n",
    "                              'CODY had brands of my interest':'Content',\n",
    "                              'I could understand the intent behind the webpage':'Intent',\n",
    "                              'I discovered new knowledge about cybersecurity incidents from CODY':'KnowledgeGain',\n",
    "                              'Information shown in CODY can help in making more informed buying decisions':'BuyingDecision'}, inplace = True)\n",
    "\n",
    "\n",
    "all_feedback.head()"
   ]
  },
  {
   "cell_type": "markdown",
   "id": "cf0edd89-6535-4a4c-aab8-9ee7bf5c7d32",
   "metadata": {},
   "source": [
    "***\n",
    "## Relationship between Trust in specific brand and existing knowledge of incidents."
   ]
  },
  {
   "cell_type": "code",
   "execution_count": 19,
   "id": "da3e8045-05b2-46fa-ac72-cb618b109095",
   "metadata": {},
   "outputs": [
    {
     "data": {
      "text/plain": [
       "array([[24, 17],\n",
       "       [ 0,  4]])"
      ]
     },
     "execution_count": 19,
     "metadata": {},
     "output_type": "execute_result"
    }
   ],
   "source": [
    "aud_feedback = all_feedback[all_feedback['Age'] == \"18-25\"]\n",
    "\n",
    "trust_audience = aud_feedback[(aud_feedback['Trust'] >= 4)]\n",
    "count_trust_knowledge = trust_audience[trust_audience['CompromiseKnowledge'] >= 4].Trust.count()\n",
    "count_trust_no_knowledge = trust_audience[trust_audience['CompromiseKnowledge'] < 4].Trust.count()\n",
    "count_trust_no_knowledge\n",
    "\n",
    "notrust_audience = aud_feedback[(aud_feedback['Trust'] < 3)]\n",
    "count_notrust_knowledge = notrust_audience[notrust_audience['CompromiseKnowledge'] >= 4].Trust.count()\n",
    "count_notrust_noknowledge = notrust_audience[notrust_audience['CompromiseKnowledge'] < 4].Trust.count()\n",
    "count_notrust_noknowledge\n",
    "\n",
    "table_trust_knowledge = np.array([[count_trust_knowledge, count_trust_no_knowledge], [count_notrust_knowledge, count_notrust_noknowledge]])\n",
    "table_trust_knowledge"
   ]
  },
  {
   "cell_type": "code",
   "execution_count": 29,
   "id": "ba7cf7ed-4e4e-4fdd-ad43-cac2bd928db5",
   "metadata": {},
   "outputs": [
    {
     "name": "stdout",
     "output_type": "stream",
     "text": [
      "p-value =  0.04016913319238926  means:\n",
      "The trust in a specific brand and existing knowledge of compromise history are related with an odds of  inf .\n"
     ]
    }
   ],
   "source": [
    "# H0: The trust in a specific brand and existing knowledge of compromise history are independent\n",
    "# H1: The trust in a specific brand and existing knowledge of compromise history are related\n",
    "\n",
    "oddsr, p = fisher_exact(table_trust_knowledge, alternative='two-sided')\n",
    "if p <= 0.05:\n",
    "    # Reject H0\n",
    "    print (\"p-value = \", p, \" means:\\nThe trust in a specific brand and existing knowledge of compromise history are related with an odds of \", oddsr, \".\")\n",
    "else:\n",
    "    # Accept H0\n",
    "    print (\"p-value = \", p, \" means:\\nThe trust in a specific brand and existing knowledge of compromise history are independent.\")\n"
   ]
  },
  {
   "cell_type": "markdown",
   "id": "bdaee00f-a404-43a9-8f15-b2557824619a",
   "metadata": {},
   "source": [
    "***\n",
    "## Relationship between Trust in specific brand and existing knowledge of cybersecurity practices."
   ]
  },
  {
   "cell_type": "code",
   "execution_count": 32,
   "id": "1ae49016-2043-420d-a939-6516b83dbc83",
   "metadata": {},
   "outputs": [
    {
     "data": {
      "text/plain": [
       "array([[27, 14],\n",
       "       [ 2,  2]])"
      ]
     },
     "execution_count": 32,
     "metadata": {},
     "output_type": "execute_result"
    }
   ],
   "source": [
    "aud_feedback = all_feedback[all_feedback['Age'] == \"18-25\"]\n",
    "\n",
    "trust_audience = aud_feedback[(aud_feedback['Trust'] >= 4)]\n",
    "count_trust_secknow = trust_audience[trust_audience['SecurityKnowledge'] >= 4].Trust.count()\n",
    "count_trust_no_secknow = trust_audience[trust_audience['SecurityKnowledge'] < 4].Trust.count()\n",
    "count_trust_no_secknow\n",
    "\n",
    "notrust_audience = aud_feedback[(aud_feedback['Trust'] < 3)]\n",
    "count_notrust_secknow = notrust_audience[notrust_audience['SecurityKnowledge'] >= 4].Trust.count()\n",
    "count_notrust_nosecknow = notrust_audience[notrust_audience['SecurityKnowledge'] < 4].Trust.count()\n",
    "count_notrust_secknow\n",
    "\n",
    "table_trust_secknow = np.array([[count_trust_secknow, count_trust_no_secknow], [count_notrust_secknow, count_notrust_nosecknow]])\n",
    "table_trust_secknow"
   ]
  },
  {
   "cell_type": "code",
   "execution_count": 33,
   "id": "a7cba95a-9e7a-40eb-9d58-b304f0e1c9c3",
   "metadata": {},
   "outputs": [
    {
     "name": "stdout",
     "output_type": "stream",
     "text": [
      "p-value =  0.6076109936575044  means:\n",
      "The trust in a specific brand and existing knowledge of cybersecurity practices are independent.\n"
     ]
    }
   ],
   "source": [
    "# H0: The trust in a specific brand and existing knowledge of cybersecurity practices are independent\n",
    "# H1: The trust in a specific brand and existing knowledge of cybersecurity practices are related\n",
    "\n",
    "oddsr, p = fisher_exact(table_trust_secknow, alternative='two-sided')\n",
    "if p <= 0.05:\n",
    "    # Reject H0\n",
    "    print (\"p-value = \", p, \" means:\\nThe trust in a specific brand and existing knowledge of cybersecurity practices are related with an odds of \", oddsr, \".\")\n",
    "else:\n",
    "    # Accept H0\n",
    "    print (\"p-value = \", p, \" means:\\nThe trust in a specific brand and existing knowledge of cybersecurity practices are independent.\")\n"
   ]
  },
  {
   "cell_type": "markdown",
   "id": "63b23a71-2b17-4455-b8a5-4724249fdcb3",
   "metadata": {},
   "source": [
    "***\n",
    "## Relationship between presence of preferred brands in CODY and knowledge discovery by user."
   ]
  },
  {
   "cell_type": "code",
   "execution_count": 34,
   "id": "3f2ad0af-24a5-41df-b856-b12dedcf518e",
   "metadata": {},
   "outputs": [
    {
     "data": {
      "text/plain": [
       "array([[21,  4],\n",
       "       [ 1,  5]])"
      ]
     },
     "execution_count": 34,
     "metadata": {},
     "output_type": "execute_result"
    }
   ],
   "source": [
    "aud_feedback = all_feedback[all_feedback['Age'] == \"18-25\"]\n",
    "\n",
    "cody_content = aud_feedback[(aud_feedback['Content'] >= 4)]\n",
    "count_content_knowgain = cody_content[cody_content['KnowledgeGain'] >= 4].Content.count()\n",
    "count_content_no_knowgain = cody_content[cody_content['KnowledgeGain'] < 4].Content.count()\n",
    "count_content_no_knowgain\n",
    "\n",
    "cody_nocontent = aud_feedback[(aud_feedback['Content'] < 3)]\n",
    "count_nocontent_knowgain = cody_nocontent[cody_nocontent['KnowledgeGain'] >= 4].Content.count()\n",
    "count_nocontent_no_knowgain = cody_nocontent[cody_nocontent['KnowledgeGain'] < 4].Content.count()\n",
    "count_nocontent_no_knowgain\n",
    "\n",
    "table_content_knowgain = np.array([[count_content_knowgain, count_content_no_knowgain], [count_nocontent_knowgain, count_nocontent_no_knowgain]])\n",
    "table_content_knowgain"
   ]
  },
  {
   "cell_type": "code",
   "execution_count": 35,
   "id": "e39d6eb8-61ac-45d6-988b-6914965da3ee",
   "metadata": {},
   "outputs": [
    {
     "name": "stdout",
     "output_type": "stream",
     "text": [
      "p-value =  0.0038789538233364677  means:\n",
      "The presence of preferred brands in CODY and knowledge discovery by user are related with an odds of  26.25 .\n"
     ]
    }
   ],
   "source": [
    "# H0: The presence of preferred brands in CODY and knowledge discovery by user are independent\n",
    "# H1: The presence of preferred brands in CODY and knowledge discovery by user are related\n",
    "\n",
    "oddsr, p = fisher_exact(table_content_knowgain, alternative='two-sided')\n",
    "if p <= 0.05:\n",
    "    # Reject H0\n",
    "    print (\"p-value = \", p, \" means:\\nThe presence of preferred brands in CODY and knowledge discovery by user are related with an odds of \", oddsr, \".\")\n",
    "else:\n",
    "    # Accept H0\n",
    "    print (\"p-value = \", p, \" means:\\nThe presence of preferred brands in CODY and knowledge discovery by user are independent.\")\n"
   ]
  },
  {
   "cell_type": "markdown",
   "id": "53176e45-3e30-4877-a542-774c06ce6845",
   "metadata": {},
   "source": [
    "***\n",
    "## Relationship between knowledge discovery by user and informed buying decision."
   ]
  },
  {
   "cell_type": "code",
   "execution_count": 36,
   "id": "e84726a5-7aaf-4659-9cdd-13995693bbcb",
   "metadata": {},
   "outputs": [
    {
     "data": {
      "text/plain": [
       "array([[26,  3],\n",
       "       [ 0,  3]])"
      ]
     },
     "execution_count": 36,
     "metadata": {},
     "output_type": "execute_result"
    }
   ],
   "source": [
    "aud_feedback = all_feedback[all_feedback['Age'] == \"18-25\"]\n",
    "\n",
    "knowgain = aud_feedback[(aud_feedback['KnowledgeGain'] >= 4)]\n",
    "count_knowgain_informedbuy = knowgain[knowgain['BuyingDecision'] >= 4].KnowledgeGain.count()\n",
    "count_knowgain_no_informedbuy = knowgain[knowgain['BuyingDecision'] < 4].KnowledgeGain.count()\n",
    "count_knowgain_informedbuy\n",
    "\n",
    "no_knowgain = aud_feedback[(aud_feedback['KnowledgeGain'] < 3)]\n",
    "count_nogain_informedbuy = no_knowgain[no_knowgain['BuyingDecision'] >= 4].KnowledgeGain.count()\n",
    "count_nogain_no_informedbuy = no_knowgain[no_knowgain['BuyingDecision'] < 4].KnowledgeGain.count()\n",
    "count_nogain_no_informedbuy\n",
    "\n",
    "table_knowgain_informedbuy = np.array([[count_knowgain_informedbuy, count_knowgain_no_informedbuy], [count_nogain_informedbuy, count_nogain_no_informedbuy]])\n",
    "table_knowgain_informedbuy"
   ]
  },
  {
   "cell_type": "code",
   "execution_count": 37,
   "id": "f22c7d6a-09ec-4510-89ea-f2dc91ee4b23",
   "metadata": {},
   "outputs": [
    {
     "name": "stdout",
     "output_type": "stream",
     "text": [
      "p-value =  0.0040322580645161315  means:\n",
      "The knowledge discovery by user and informed buying behavior are related with an odds of  inf .\n"
     ]
    }
   ],
   "source": [
    "# H0: The knowledge discovery by user and informed buying behavior are independent\n",
    "# H1: The knowledge discovery by user and informed buying behavior are related\n",
    "\n",
    "oddsr, p = fisher_exact(table_knowgain_informedbuy, alternative='two-sided')\n",
    "if p <= 0.05:\n",
    "    # Reject H0\n",
    "    print (\"p-value = \", p, \" means:\\nThe knowledge discovery by user and informed buying behavior are related with an odds of \", oddsr, \".\")\n",
    "else:\n",
    "    # Accept H0\n",
    "    print (\"p-value = \", p, \" means:\\nThe knowledge discovery by user and informed buying behavior are independent.\")\n"
   ]
  },
  {
   "cell_type": "code",
   "execution_count": null,
   "id": "669babe6-746a-4163-9dd1-8f2584700401",
   "metadata": {},
   "outputs": [],
   "source": []
  }
 ],
 "metadata": {
  "kernelspec": {
   "display_name": "Python 3",
   "language": "python",
   "name": "python3"
  },
  "language_info": {
   "codemirror_mode": {
    "name": "ipython",
    "version": 3
   },
   "file_extension": ".py",
   "mimetype": "text/x-python",
   "name": "python",
   "nbconvert_exporter": "python",
   "pygments_lexer": "ipython3",
   "version": "3.8.10"
  }
 },
 "nbformat": 4,
 "nbformat_minor": 5
}
